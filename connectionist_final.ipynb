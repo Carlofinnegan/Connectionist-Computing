{
 "cells": [
  {
   "cell_type": "code",
   "execution_count": null,
   "metadata": {},
   "outputs": [],
   "source": [
    "import numpy as np\n",
    "\n",
    "class MLP:\n",
    "    def __init__(self, input_size, hidden_size, output_size, learning_rate=0.1):\n",
    "        self.weights_1, self.weights_2 = self.init_parameters(input_size, hidden_size, output_size)\n",
    "        self.learning_rate = learning_rate\n",
    "        \n",
    "    def init_parameters(self, input_size, hidden_size, output_size):\n",
    "        #Randomly generate inital weights between 1 and -1 uniformly\n",
    "        weights_1 = np.random.uniform(-1, 1, (input_size, hidden_size))\n",
    "        weights_2 = np.random.uniform(-1, 1, (hidden_size, output_size))\n",
    "        return weights_1, weights_2\n",
    "    \n",
    "    def sigmoid(self, x):\n",
    "        #Sigmoid activation\n",
    "        return 1 / (1 + np.exp(-x))\n",
    "        \n",
    "    def forward(self, inputs):\n",
    "        hidden_input = np.dot(inputs, self.weights_1)\n",
    "        hidden_output = self.sigmoid(hidden_input)\n",
    "        final_input = np.dot(hidden_output, self.weights_2)\n",
    "        final_output = self.sigmoid(final_input)\n",
    "        return hidden_output, final_output\n",
    "        \n",
    "    def backward(self, inputs, hidden_output, final_output, targets):\n",
    "        output_errors = targets - final_output\n",
    "        output_delta = output_errors * final_output * (1 - final_output)\n",
    "        weight_changes_2 = np.outer(hidden_output, output_delta)\n",
    "        \n",
    "        hidden_errors = np.dot(output_delta, self.weights_2.T)\n",
    "        hidden_delta = hidden_errors * hidden_output * (1 - hidden_output)\n",
    "        weight_changes_1 = np.outer(inputs, hidden_delta)\n",
    "        \n",
    "        return weight_changes_1, weight_changes_2, np.mean(output_errors ** 2)\n",
    "        \n",
    "    def update_weights(self, weight_changes_1, weight_changes_2):\n",
    "        self.weights_1 += self.learning_rate * weight_changes_1\n",
    "        self.weights_2 += self.learning_rate * weight_changes_2\n",
    "    \n",
    "    def train(self, inputs, targets):\n",
    "        hidden_output, final_output = self.forward(inputs)\n",
    "        weight_changes_1, weight_changes_2, error = self.backward(inputs, hidden_output, final_output, targets)\n",
    "        self.update_weights(weight_changes_1, weight_changes_2)\n",
    "        return error"
   ]
  }
 ],
 "metadata": {
  "kernelspec": {
   "display_name": "ml-python",
   "language": "python",
   "name": "python3"
  },
  "language_info": {
   "name": "python",
   "version": "3.9.20"
  }
 },
 "nbformat": 4,
 "nbformat_minor": 2
}
